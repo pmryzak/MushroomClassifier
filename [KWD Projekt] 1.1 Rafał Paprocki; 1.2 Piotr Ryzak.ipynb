{
 "cells": [
  {
   "cell_type": "markdown",
   "metadata": {},
   "source": [
    "#  Downloading data"
   ]
  },
  {
   "cell_type": "code",
   "execution_count": 1,
   "metadata": {},
   "outputs": [],
   "source": [
    "import pandas as pd\n",
    "import numpy as np\n",
    "import random\n",
    "\n",
    "%matplotlib inline\n",
    "random.seed(a=None, version=2)\n",
    "\n",
    "pd.set_option('display.max_columns',24)\n",
    "pd.set_option('display.max_rows',6000)\n",
    "colNames=['target','1.cap-shape', '2.cap-surface', '3.cap-color', '4.bruises', '5.odor', '6.gill-attachment',\n",
    "          '7.gill-spacing', '8.gill-size', '9.gill-color', '10.stalk-shape', '11.stalk-root', \n",
    "          '12.stalk-surface-above-ring', '13.stalk-surface-below-ring', '14.stalk-color-above-ring',\n",
    "          '15.stalk-color-below-ring', '16.veil-type', '17.veil-color', '18.ring-number', '19.ring-type',\n",
    "          '20.spore-print-color', '21.population','22.habitat']\n",
    "mushroom_data = pd.read_csv('https://archive.ics.uci.edu/ml/machine-learning-databases/mushroom/agaricus-lepiota.data',\n",
    "            names=colNames)\n",
    "\n"
   ]
  },
  {
   "cell_type": "code",
   "execution_count": 2,
   "metadata": {
    "scrolled": true
   },
   "outputs": [
    {
     "data": {
      "text/html": [
       "<div>\n",
       "<style scoped>\n",
       "    .dataframe tbody tr th:only-of-type {\n",
       "        vertical-align: middle;\n",
       "    }\n",
       "\n",
       "    .dataframe tbody tr th {\n",
       "        vertical-align: top;\n",
       "    }\n",
       "\n",
       "    .dataframe thead th {\n",
       "        text-align: right;\n",
       "    }\n",
       "</style>\n",
       "<table border=\"1\" class=\"dataframe\">\n",
       "  <thead>\n",
       "    <tr style=\"text-align: right;\">\n",
       "      <th></th>\n",
       "      <th>target</th>\n",
       "      <th>1.cap-shape</th>\n",
       "      <th>2.cap-surface</th>\n",
       "      <th>3.cap-color</th>\n",
       "      <th>4.bruises</th>\n",
       "      <th>5.odor</th>\n",
       "      <th>6.gill-attachment</th>\n",
       "      <th>7.gill-spacing</th>\n",
       "      <th>8.gill-size</th>\n",
       "      <th>9.gill-color</th>\n",
       "      <th>10.stalk-shape</th>\n",
       "      <th>11.stalk-root</th>\n",
       "      <th>12.stalk-surface-above-ring</th>\n",
       "      <th>13.stalk-surface-below-ring</th>\n",
       "      <th>14.stalk-color-above-ring</th>\n",
       "      <th>15.stalk-color-below-ring</th>\n",
       "      <th>16.veil-type</th>\n",
       "      <th>17.veil-color</th>\n",
       "      <th>18.ring-number</th>\n",
       "      <th>19.ring-type</th>\n",
       "      <th>20.spore-print-color</th>\n",
       "      <th>21.population</th>\n",
       "      <th>22.habitat</th>\n",
       "    </tr>\n",
       "  </thead>\n",
       "  <tbody>\n",
       "    <tr>\n",
       "      <th>0</th>\n",
       "      <td>p</td>\n",
       "      <td>x</td>\n",
       "      <td>s</td>\n",
       "      <td>n</td>\n",
       "      <td>t</td>\n",
       "      <td>p</td>\n",
       "      <td>f</td>\n",
       "      <td>c</td>\n",
       "      <td>n</td>\n",
       "      <td>k</td>\n",
       "      <td>e</td>\n",
       "      <td>e</td>\n",
       "      <td>s</td>\n",
       "      <td>s</td>\n",
       "      <td>w</td>\n",
       "      <td>w</td>\n",
       "      <td>p</td>\n",
       "      <td>w</td>\n",
       "      <td>o</td>\n",
       "      <td>p</td>\n",
       "      <td>k</td>\n",
       "      <td>s</td>\n",
       "      <td>u</td>\n",
       "    </tr>\n",
       "    <tr>\n",
       "      <th>1</th>\n",
       "      <td>e</td>\n",
       "      <td>x</td>\n",
       "      <td>s</td>\n",
       "      <td>y</td>\n",
       "      <td>t</td>\n",
       "      <td>a</td>\n",
       "      <td>f</td>\n",
       "      <td>c</td>\n",
       "      <td>b</td>\n",
       "      <td>k</td>\n",
       "      <td>e</td>\n",
       "      <td>c</td>\n",
       "      <td>s</td>\n",
       "      <td>s</td>\n",
       "      <td>w</td>\n",
       "      <td>w</td>\n",
       "      <td>p</td>\n",
       "      <td>w</td>\n",
       "      <td>o</td>\n",
       "      <td>p</td>\n",
       "      <td>n</td>\n",
       "      <td>n</td>\n",
       "      <td>g</td>\n",
       "    </tr>\n",
       "    <tr>\n",
       "      <th>2</th>\n",
       "      <td>e</td>\n",
       "      <td>b</td>\n",
       "      <td>s</td>\n",
       "      <td>w</td>\n",
       "      <td>t</td>\n",
       "      <td>l</td>\n",
       "      <td>f</td>\n",
       "      <td>c</td>\n",
       "      <td>b</td>\n",
       "      <td>n</td>\n",
       "      <td>e</td>\n",
       "      <td>c</td>\n",
       "      <td>s</td>\n",
       "      <td>s</td>\n",
       "      <td>w</td>\n",
       "      <td>w</td>\n",
       "      <td>p</td>\n",
       "      <td>w</td>\n",
       "      <td>o</td>\n",
       "      <td>p</td>\n",
       "      <td>n</td>\n",
       "      <td>n</td>\n",
       "      <td>m</td>\n",
       "    </tr>\n",
       "    <tr>\n",
       "      <th>3</th>\n",
       "      <td>p</td>\n",
       "      <td>x</td>\n",
       "      <td>y</td>\n",
       "      <td>w</td>\n",
       "      <td>t</td>\n",
       "      <td>p</td>\n",
       "      <td>f</td>\n",
       "      <td>c</td>\n",
       "      <td>n</td>\n",
       "      <td>n</td>\n",
       "      <td>e</td>\n",
       "      <td>e</td>\n",
       "      <td>s</td>\n",
       "      <td>s</td>\n",
       "      <td>w</td>\n",
       "      <td>w</td>\n",
       "      <td>p</td>\n",
       "      <td>w</td>\n",
       "      <td>o</td>\n",
       "      <td>p</td>\n",
       "      <td>k</td>\n",
       "      <td>s</td>\n",
       "      <td>u</td>\n",
       "    </tr>\n",
       "    <tr>\n",
       "      <th>4</th>\n",
       "      <td>e</td>\n",
       "      <td>x</td>\n",
       "      <td>s</td>\n",
       "      <td>g</td>\n",
       "      <td>f</td>\n",
       "      <td>n</td>\n",
       "      <td>f</td>\n",
       "      <td>w</td>\n",
       "      <td>b</td>\n",
       "      <td>k</td>\n",
       "      <td>t</td>\n",
       "      <td>e</td>\n",
       "      <td>s</td>\n",
       "      <td>s</td>\n",
       "      <td>w</td>\n",
       "      <td>w</td>\n",
       "      <td>p</td>\n",
       "      <td>w</td>\n",
       "      <td>o</td>\n",
       "      <td>e</td>\n",
       "      <td>n</td>\n",
       "      <td>a</td>\n",
       "      <td>g</td>\n",
       "    </tr>\n",
       "  </tbody>\n",
       "</table>\n",
       "</div>"
      ],
      "text/plain": [
       "  target 1.cap-shape 2.cap-surface 3.cap-color 4.bruises 5.odor  \\\n",
       "0      p           x             s           n         t      p   \n",
       "1      e           x             s           y         t      a   \n",
       "2      e           b             s           w         t      l   \n",
       "3      p           x             y           w         t      p   \n",
       "4      e           x             s           g         f      n   \n",
       "\n",
       "  6.gill-attachment 7.gill-spacing 8.gill-size 9.gill-color 10.stalk-shape  \\\n",
       "0                 f              c           n            k              e   \n",
       "1                 f              c           b            k              e   \n",
       "2                 f              c           b            n              e   \n",
       "3                 f              c           n            n              e   \n",
       "4                 f              w           b            k              t   \n",
       "\n",
       "  11.stalk-root 12.stalk-surface-above-ring 13.stalk-surface-below-ring  \\\n",
       "0             e                           s                           s   \n",
       "1             c                           s                           s   \n",
       "2             c                           s                           s   \n",
       "3             e                           s                           s   \n",
       "4             e                           s                           s   \n",
       "\n",
       "  14.stalk-color-above-ring 15.stalk-color-below-ring 16.veil-type  \\\n",
       "0                         w                         w            p   \n",
       "1                         w                         w            p   \n",
       "2                         w                         w            p   \n",
       "3                         w                         w            p   \n",
       "4                         w                         w            p   \n",
       "\n",
       "  17.veil-color 18.ring-number 19.ring-type 20.spore-print-color  \\\n",
       "0             w              o            p                    k   \n",
       "1             w              o            p                    n   \n",
       "2             w              o            p                    n   \n",
       "3             w              o            p                    k   \n",
       "4             w              o            e                    n   \n",
       "\n",
       "  21.population 22.habitat  \n",
       "0             s          u  \n",
       "1             n          g  \n",
       "2             n          m  \n",
       "3             s          u  \n",
       "4             a          g  "
      ]
     },
     "execution_count": 2,
     "metadata": {},
     "output_type": "execute_result"
    }
   ],
   "source": [
    "mushroom_data.head()"
   ]
  },
  {
   "cell_type": "code",
   "execution_count": 3,
   "metadata": {},
   "outputs": [],
   "source": [
    "#print(mushroom_data)"
   ]
  },
  {
   "cell_type": "code",
   "execution_count": 4,
   "metadata": {},
   "outputs": [
    {
     "data": {
      "text/html": [
       "<div>\n",
       "<style scoped>\n",
       "    .dataframe tbody tr th:only-of-type {\n",
       "        vertical-align: middle;\n",
       "    }\n",
       "\n",
       "    .dataframe tbody tr th {\n",
       "        vertical-align: top;\n",
       "    }\n",
       "\n",
       "    .dataframe thead th {\n",
       "        text-align: right;\n",
       "    }\n",
       "</style>\n",
       "<table border=\"1\" class=\"dataframe\">\n",
       "  <thead>\n",
       "    <tr style=\"text-align: right;\">\n",
       "      <th></th>\n",
       "      <th>target</th>\n",
       "      <th>1.cap-shape</th>\n",
       "      <th>2.cap-surface</th>\n",
       "      <th>3.cap-color</th>\n",
       "      <th>4.bruises</th>\n",
       "      <th>5.odor</th>\n",
       "      <th>6.gill-attachment</th>\n",
       "      <th>7.gill-spacing</th>\n",
       "      <th>8.gill-size</th>\n",
       "      <th>9.gill-color</th>\n",
       "      <th>10.stalk-shape</th>\n",
       "      <th>11.stalk-root</th>\n",
       "      <th>12.stalk-surface-above-ring</th>\n",
       "      <th>13.stalk-surface-below-ring</th>\n",
       "      <th>14.stalk-color-above-ring</th>\n",
       "      <th>15.stalk-color-below-ring</th>\n",
       "      <th>16.veil-type</th>\n",
       "      <th>17.veil-color</th>\n",
       "      <th>18.ring-number</th>\n",
       "      <th>19.ring-type</th>\n",
       "      <th>20.spore-print-color</th>\n",
       "      <th>21.population</th>\n",
       "      <th>22.habitat</th>\n",
       "    </tr>\n",
       "  </thead>\n",
       "  <tbody>\n",
       "    <tr>\n",
       "      <th>0</th>\n",
       "      <td>e</td>\n",
       "      <td>x</td>\n",
       "      <td>y</td>\n",
       "      <td>n</td>\n",
       "      <td>f</td>\n",
       "      <td>n</td>\n",
       "      <td>f</td>\n",
       "      <td>c</td>\n",
       "      <td>b</td>\n",
       "      <td>b</td>\n",
       "      <td>t</td>\n",
       "      <td>b</td>\n",
       "      <td>s</td>\n",
       "      <td>s</td>\n",
       "      <td>w</td>\n",
       "      <td>w</td>\n",
       "      <td>p</td>\n",
       "      <td>w</td>\n",
       "      <td>o</td>\n",
       "      <td>p</td>\n",
       "      <td>w</td>\n",
       "      <td>v</td>\n",
       "      <td>d</td>\n",
       "    </tr>\n",
       "  </tbody>\n",
       "</table>\n",
       "</div>"
      ],
      "text/plain": [
       "  target 1.cap-shape 2.cap-surface 3.cap-color 4.bruises 5.odor  \\\n",
       "0      e           x             y           n         f      n   \n",
       "\n",
       "  6.gill-attachment 7.gill-spacing 8.gill-size 9.gill-color 10.stalk-shape  \\\n",
       "0                 f              c           b            b              t   \n",
       "\n",
       "  11.stalk-root 12.stalk-surface-above-ring 13.stalk-surface-below-ring  \\\n",
       "0             b                           s                           s   \n",
       "\n",
       "  14.stalk-color-above-ring 15.stalk-color-below-ring 16.veil-type  \\\n",
       "0                         w                         w            p   \n",
       "\n",
       "  17.veil-color 18.ring-number 19.ring-type 20.spore-print-color  \\\n",
       "0             w              o            p                    w   \n",
       "\n",
       "  21.population 22.habitat  \n",
       "0             v          d  "
      ]
     },
     "execution_count": 4,
     "metadata": {},
     "output_type": "execute_result"
    }
   ],
   "source": [
    "mushroom_data.mode()"
   ]
  },
  {
   "cell_type": "markdown",
   "metadata": {},
   "source": [
    "## Data preprocessing"
   ]
  },
  {
   "cell_type": "code",
   "execution_count": 5,
   "metadata": {},
   "outputs": [],
   "source": [
    "#W naszych danych jedynie kolumna 11 zawiera brakujace dane(wystepuje jako '?'), mozemy:\n",
    "#1.Zastapic je najczesciej wystepujaca wartoscia w kolumnie 11\n",
    "#2.Wyrzucic wszystkie wiersze z brakujacymi danymi\n",
    "mushroom_data1 = mushroom_data.copy()\n",
    "mushroom_data2 = mushroom_data.copy()\n",
    "#najczesciej wystepujaca wartosc w kolumnie 11\n",
    "mode_value = mushroom_data.mode().iloc[:,11]\n",
    "#zastepujemy brakujace wartosci wartoscia najczesciej wystepujaca\n",
    "mushroom_data1.replace(\"?\", np.nan, inplace=True)\n",
    "mushroom_data1.replace(np.nan, mode_value[0], inplace=True)\n",
    "#drugie podejscie usuwamy wiersze zawierajace brakujace dane\n",
    "mushroom_data2.replace(\"?\", np.nan, inplace=True)\n",
    "mushroom_data2.dropna(inplace=True)\n",
    "#zamieniamy wartości tekstowe na liczbowe\n",
    "mushroom_data1 = mushroom_data1.apply(lambda x: pd.factorize(x, sort=True)[0])\n",
    "mushroom_data2 = mushroom_data2.apply(lambda x: pd.factorize(x, sort=True)[0])\n",
    "#wydzielamy dane o jadalnosci od pozostalych\n",
    "mushroom_x1 = mushroom_data1.iloc[:, 1:23]\n",
    "mushroom_y1 = mushroom_data1.iloc[:, 0]\n",
    "mushroom_x2 = mushroom_data2.iloc[:, 1:23]\n",
    "mushroom_y2 = mushroom_data2.iloc[:, 0]"
   ]
  },
  {
   "cell_type": "markdown",
   "metadata": {},
   "source": [
    "## Train-test split"
   ]
  },
  {
   "cell_type": "code",
   "execution_count": 36,
   "metadata": {},
   "outputs": [
    {
     "name": "stderr",
     "output_type": "stream",
     "text": [
      "C:\\Users\\Piotr\\Anaconda3\\envs\\kwd\\lib\\site-packages\\sklearn\\model_selection\\_split.py:2179: FutureWarning: From version 0.21, test_size will always complement train_size unless both are specified.\n",
      "  FutureWarning)\n"
     ]
    }
   ],
   "source": [
    "from sklearn.model_selection import train_test_split\n",
    "\n",
    "x_train1, x_test1, y_train1, y_test1 = \\\n",
    "    train_test_split(mushroom_x1, mushroom_y1, train_size=0.8, random_state=67)\n",
    "x_train2, x_test2, y_train2, y_test2 = \\\n",
    "    train_test_split(mushroom_x2, mushroom_y2, train_size=0.8, random_state=67)"
   ]
  },
  {
   "cell_type": "markdown",
   "metadata": {},
   "source": [
    "## Training of models"
   ]
  },
  {
   "cell_type": "code",
   "execution_count": 37,
   "metadata": {},
   "outputs": [
    {
     "data": {
      "text/plain": [
       "DecisionTreeClassifier(class_weight=None, criterion='entropy', max_depth=12,\n",
       "            max_features=None, max_leaf_nodes=None,\n",
       "            min_impurity_decrease=0.0, min_impurity_split=None,\n",
       "            min_samples_leaf=1, min_samples_split=2,\n",
       "            min_weight_fraction_leaf=0.0, presort=False, random_state=37,\n",
       "            splitter='best')"
      ]
     },
     "execution_count": 37,
     "metadata": {},
     "output_type": "execute_result"
    }
   ],
   "source": [
    "from sklearn import tree\n",
    "\n",
    "filled_data_model = tree.DecisionTreeClassifier(criterion='entropy', max_depth=12, random_state=37)\n",
    "dropped_data_model = tree.DecisionTreeClassifier(criterion='entropy', max_depth=12, random_state=37)\n",
    "filled_data_model.fit(x_train1, y_train1)\n",
    "dropped_data_model.fit(x_train2, y_train2)"
   ]
  },
  {
   "cell_type": "markdown",
   "metadata": {},
   "source": [
    "## Model scores "
   ]
  },
  {
   "cell_type": "code",
   "execution_count": 38,
   "metadata": {},
   "outputs": [
    {
     "data": {
      "text/plain": [
       "1.0"
      ]
     },
     "execution_count": 38,
     "metadata": {},
     "output_type": "execute_result"
    }
   ],
   "source": [
    "#wynik modelu danych uzupelnionych na swoich danych testowych\n",
    "filled_data_model.score(x_test1, y_test1)"
   ]
  },
  {
   "cell_type": "code",
   "execution_count": 39,
   "metadata": {},
   "outputs": [
    {
     "data": {
      "text/plain": [
       "1.0"
      ]
     },
     "execution_count": 39,
     "metadata": {},
     "output_type": "execute_result"
    }
   ],
   "source": [
    "#wynik modelu danych uzupelnionych na swoich danych treningowych\n",
    "filled_data_model.score(x_train1, y_train1)"
   ]
  },
  {
   "cell_type": "code",
   "execution_count": 40,
   "metadata": {},
   "outputs": [
    {
     "data": {
      "text/plain": [
       "0.8423383525243578"
      ]
     },
     "execution_count": 40,
     "metadata": {},
     "output_type": "execute_result"
    }
   ],
   "source": [
    "#wynik modelu danych uzupelnionych na danych testowych drugiego modelu\n",
    "filled_data_model.score(x_test2, y_test2)"
   ]
  },
  {
   "cell_type": "code",
   "execution_count": 41,
   "metadata": {},
   "outputs": [
    {
     "data": {
      "text/plain": [
       "0.8445182724252491"
      ]
     },
     "execution_count": 41,
     "metadata": {},
     "output_type": "execute_result"
    }
   ],
   "source": [
    "#wynik modelu danych uzupelnionych na danych treningowych drugiego modelu\n",
    "filled_data_model.score(x_train2, y_train2)"
   ]
  },
  {
   "cell_type": "code",
   "execution_count": 42,
   "metadata": {},
   "outputs": [
    {
     "data": {
      "text/plain": [
       "1.0"
      ]
     },
     "execution_count": 42,
     "metadata": {},
     "output_type": "execute_result"
    }
   ],
   "source": [
    "#wynik modelu danych usunietych na swoich danych testowych\n",
    "dropped_data_model.score(x_test2, y_test2)"
   ]
  },
  {
   "cell_type": "code",
   "execution_count": 43,
   "metadata": {},
   "outputs": [
    {
     "data": {
      "text/plain": [
       "1.0"
      ]
     },
     "execution_count": 43,
     "metadata": {},
     "output_type": "execute_result"
    }
   ],
   "source": [
    "#wynik modelu danych usunietych na swoich danych treningowych\n",
    "dropped_data_model.score(x_train2, y_train2)"
   ]
  },
  {
   "cell_type": "code",
   "execution_count": 44,
   "metadata": {},
   "outputs": [
    {
     "data": {
      "text/plain": [
       "0.5655384615384615"
      ]
     },
     "execution_count": 44,
     "metadata": {},
     "output_type": "execute_result"
    }
   ],
   "source": [
    "#wynik modelu danych usunietych na danych testowych drugiego modelu\n",
    "dropped_data_model.score(x_test1, y_test1)"
   ]
  },
  {
   "cell_type": "code",
   "execution_count": 45,
   "metadata": {},
   "outputs": [
    {
     "data": {
      "text/plain": [
       "0.5473149715340822"
      ]
     },
     "execution_count": 45,
     "metadata": {},
     "output_type": "execute_result"
    }
   ],
   "source": [
    "#wynik modelu danych usunietych na danych treningowych drugiego modelu\n",
    "dropped_data_model.score(x_train1, y_train1)"
   ]
  },
  {
   "cell_type": "code",
   "execution_count": 46,
   "metadata": {},
   "outputs": [
    {
     "data": {
      "text/plain": [
       "<matplotlib.axes._subplots.AxesSubplot at 0x29065897be0>"
      ]
     },
     "execution_count": 46,
     "metadata": {},
     "output_type": "execute_result"
    },
    {
     "data": {
      "image/png": "[encoded data removed]",
      "text/plain": [
       "<Figure size 432x288 with 2 Axes>"
      ]
     },
     "metadata": {
      "needs_background": "light"
     },
     "output_type": "display_data"
    }
   ],
   "source": [
    "#Macierz konfuzji modelu o uzupelnionych danych\n",
    "from sklearn.metrics import confusion_matrix\n",
    "import seaborn as sn\n",
    "\n",
    "filled_data_predictions = filled_data_model.predict(x_test1)\n",
    "filled_data_cnf_matrix = confusion_matrix(y_test1, filled_data_predictions)\n",
    "sn.heatmap(filled_data_cnf_matrix)\n"
   ]
  },
  {
   "cell_type": "code",
   "execution_count": 47,
   "metadata": {},
   "outputs": [
    {
     "data": {
      "text/plain": [
       "<matplotlib.axes._subplots.AxesSubplot at 0x29065bd42b0>"
      ]
     },
     "execution_count": 47,
     "metadata": {},
     "output_type": "execute_result"
    },
    {
     "data": {
      "image/png": "[encoded data removed]",
      "text/plain": [
       "<Figure size 432x288 with 2 Axes>"
      ]
     },
     "metadata": {
      "needs_background": "light"
     },
     "output_type": "display_data"
    }
   ],
   "source": [
    "#Macierz konfuzji modelu o uzupelnionych danych\n",
    "dropped_data_predictions = dropped_data_model.predict(x_test2)\n",
    "dropped_data_cnf_matrix = confusion_matrix(y_test2, dropped_data_predictions)\n",
    "sn.heatmap(dropped_data_cnf_matrix)\n"
   ]
  },
  {
   "cell_type": "code",
   "execution_count": 49,
   "metadata": {},
   "outputs": [
    {
     "data": {
      "image/png": "[encoded data removed]",
      "text/plain": [
       "<Figure size 432x288 with 1 Axes>"
      ]
     },
     "metadata": {
      "needs_background": "light"
     },
     "output_type": "display_data"
    }
   ],
   "source": [
    "#wykres wyników modelu z uzupelnionymi danymi w zaleznosci od glebokosci drzewa\n",
    "import matplotlib.pyplot as plt\n",
    "\n",
    "test_scores1 = []\n",
    "train_scores1 = []\n",
    "for i in range(1, 12):\n",
    "    graph1 = tree.DecisionTreeClassifier(criterion='entropy', random_state=111, max_depth=i)\n",
    "    graph1.fit(x_train1, y_train1)\n",
    "    test_scores1.append(graph1.score(x_test1, y_test1))\n",
    "    train_scores1.append(graph1.score(x_train1, y_train1))\n",
    "\n",
    "plt.plot(test_scores1, color='red')\n",
    "plt.plot(train_scores1)\n",
    "plt.show()"
   ]
  },
  {
   "cell_type": "code",
   "execution_count": 50,
   "metadata": {},
   "outputs": [
    {
     "data": {
      "image/png": "[encoded data removed]",
      "text/plain": [
       "<Figure size 432x288 with 1 Axes>"
      ]
     },
     "metadata": {
      "needs_background": "light"
     },
     "output_type": "display_data"
    }
   ],
   "source": [
    "#wykres wyników modelu z usunietymi danymi w zaleznosci od glebokosci drzewa\n",
    "test_scores2 = []\n",
    "train_scores2 = []\n",
    "for i in range(1, 12):\n",
    "    graph2 = tree.DecisionTreeClassifier(criterion='entropy', random_state=111, max_depth=i)\n",
    "    graph2.fit(x_train2, y_train2)\n",
    "    test_scores2.append(graph2.score(x_test2, y_test2))\n",
    "    train_scores2.append(graph2.score(x_train2, y_train2))\n",
    "\n",
    "plt.plot(test_scores2, color='red')\n",
    "plt.plot(train_scores2)\n",
    "plt.show()"
   ]
  },
  {
   "cell_type": "code",
   "execution_count": 51,
   "metadata": {},
   "outputs": [
    {
     "data": {
      "text/plain": [
       "'Dropped data model.pdf'"
      ]
     },
     "execution_count": 51,
     "metadata": {},
     "output_type": "execute_result"
    }
   ],
   "source": [
    "#wizualizacje drzew\n",
    "import graphviz\n",
    "\n",
    "tree_filled = tree.export_graphviz(filled_data_model, out_file=None)\n",
    "filled_graph = graphviz.Source(tree_filled)\n",
    "filled_graph.render(\"Filled data model\")\n",
    "\n",
    "tree_dropped = tree.export_graphviz(dropped_data_model, out_file=None)\n",
    "dropped_graph = graphviz.Source(tree_dropped)\n",
    "dropped_graph.render(\"Dropped data model\")"
   ]
  },
  {
   "cell_type": "code",
   "execution_count": null,
   "metadata": {},
   "outputs": [],
   "source": []
  }
 ],
 "metadata": {
  "kernelspec": {
   "display_name": "Python 3",
   "language": "python",
   "name": "python3"
  },
  "language_info": {
   "codemirror_mode": {
    "name": "ipython",
    "version": 3
   },
   "file_extension": ".py",
   "mimetype": "text/x-python",
   "name": "python",
   "nbconvert_exporter": "python",
   "pygments_lexer": "ipython3",
   "version": "3.6.7"
  }
 },
 "nbformat": 4,
 "nbformat_minor": 2
}
